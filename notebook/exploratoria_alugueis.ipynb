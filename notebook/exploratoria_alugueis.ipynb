{
 "cells": [
  {
   "cell_type": "markdown",
   "metadata": {},
   "source": [
    "# Análise em preço de aluguéis de imóveis no Brasil\n",
    "Base de dados brasileira encontrada no site do [Kaggle](https://www.kaggle.com/pyioneer/eda-v2-set-for-r-user). Possui preço de aluguéis em diferentes cidades brasileiras, além de outras informações referentes ao imóvel. No link podem ser encontrados mais informações sobre o dataset.  \n",
    "Um fato sobre o dataset é que ele foi gerado a partir da captura de crawler, então, em alguns casos podem acontecer ter valores exorbitantes para alguns dos campos"
   ]
  },
  {
   "cell_type": "code",
   "execution_count": 10,
   "metadata": {},
   "outputs": [],
   "source": [
    "#install.packages(\"ggplot2\")\n",
    "#install.packages(\"ggcorrplot\")\n",
    "#install.packages(\"dplyr\")\n",
    "library(\"ggplot2\")\n",
    "library(\"dplyr\")\n",
    "library(\"ggcorrplot\")"
   ]
  },
  {
   "cell_type": "markdown",
   "metadata": {},
   "source": [
    "## Visão Geral"
   ]
  },
  {
   "cell_type": "code",
   "execution_count": 2,
   "metadata": {},
   "outputs": [
    {
     "data": {
      "text/html": [
       "<table>\n",
       "<thead><tr><th scope=col>city</th><th scope=col>area</th><th scope=col>rooms</th><th scope=col>bathroom</th><th scope=col>parking.spaces</th><th scope=col>floor</th><th scope=col>animal</th><th scope=col>furniture</th><th scope=col>hoa</th><th scope=col>rent.amount</th><th scope=col>property.tax</th><th scope=col>fire.insurance</th><th scope=col>total</th></tr></thead>\n",
       "<tbody>\n",
       "\t<tr><td>São Paulo    </td><td> 70          </td><td>2            </td><td>1            </td><td>1            </td><td>7            </td><td>acept        </td><td>furnished    </td><td>2065         </td><td>3300         </td><td> 211         </td><td> 42          </td><td>5618         </td></tr>\n",
       "\t<tr><td>São Paulo    </td><td>320          </td><td>4            </td><td>4            </td><td>0            </td><td>20           </td><td>acept        </td><td>not furnished</td><td>1200         </td><td>4960         </td><td>1750         </td><td> 63          </td><td>7973         </td></tr>\n",
       "\t<tr><td>Porto Alegre </td><td> 80          </td><td>1            </td><td>1            </td><td>1            </td><td>6            </td><td>acept        </td><td>not furnished</td><td>1000         </td><td>2800         </td><td>   0         </td><td> 41          </td><td>3841         </td></tr>\n",
       "\t<tr><td>Porto Alegre </td><td> 51          </td><td>2            </td><td>1            </td><td>0            </td><td>2            </td><td>acept        </td><td>not furnished</td><td> 270         </td><td>1112         </td><td>  22         </td><td> 17          </td><td>1421         </td></tr>\n",
       "\t<tr><td>São Paulo    </td><td> 25          </td><td>1            </td><td>1            </td><td>0            </td><td>1            </td><td>not acept    </td><td>not furnished</td><td>   0         </td><td> 800         </td><td>  25         </td><td> 11          </td><td> 836         </td></tr>\n",
       "\t<tr><td>São Paulo    </td><td>376          </td><td>3            </td><td>3            </td><td>7            </td><td>-            </td><td>acept        </td><td>not furnished</td><td>   0         </td><td>8000         </td><td> 834         </td><td>121          </td><td>8955         </td></tr>\n",
       "</tbody>\n",
       "</table>\n"
      ],
      "text/latex": [
       "\\begin{tabular}{r|lllllllllllll}\n",
       " city & area & rooms & bathroom & parking.spaces & floor & animal & furniture & hoa & rent.amount & property.tax & fire.insurance & total\\\\\n",
       "\\hline\n",
       "\t São Paulo     &  70           & 2             & 1             & 1             & 7             & acept         & furnished     & 2065          & 3300          &  211          &  42           & 5618         \\\\\n",
       "\t São Paulo     & 320           & 4             & 4             & 0             & 20            & acept         & not furnished & 1200          & 4960          & 1750          &  63           & 7973         \\\\\n",
       "\t Porto Alegre  &  80           & 1             & 1             & 1             & 6             & acept         & not furnished & 1000          & 2800          &    0          &  41           & 3841         \\\\\n",
       "\t Porto Alegre  &  51           & 2             & 1             & 0             & 2             & acept         & not furnished &  270          & 1112          &   22          &  17           & 1421         \\\\\n",
       "\t São Paulo     &  25           & 1             & 1             & 0             & 1             & not acept     & not furnished &    0          &  800          &   25          &  11           &  836         \\\\\n",
       "\t São Paulo     & 376           & 3             & 3             & 7             & -             & acept         & not furnished &    0          & 8000          &  834          & 121           & 8955         \\\\\n",
       "\\end{tabular}\n"
      ],
      "text/markdown": [
       "\n",
       "| city | area | rooms | bathroom | parking.spaces | floor | animal | furniture | hoa | rent.amount | property.tax | fire.insurance | total |\n",
       "|---|---|---|---|---|---|---|---|---|---|---|---|---|\n",
       "| São Paulo     |  70           | 2             | 1             | 1             | 7             | acept         | furnished     | 2065          | 3300          |  211          |  42           | 5618          |\n",
       "| São Paulo     | 320           | 4             | 4             | 0             | 20            | acept         | not furnished | 1200          | 4960          | 1750          |  63           | 7973          |\n",
       "| Porto Alegre  |  80           | 1             | 1             | 1             | 6             | acept         | not furnished | 1000          | 2800          |    0          |  41           | 3841          |\n",
       "| Porto Alegre  |  51           | 2             | 1             | 0             | 2             | acept         | not furnished |  270          | 1112          |   22          |  17           | 1421          |\n",
       "| São Paulo     |  25           | 1             | 1             | 0             | 1             | not acept     | not furnished |    0          |  800          |   25          |  11           |  836          |\n",
       "| São Paulo     | 376           | 3             | 3             | 7             | -             | acept         | not furnished |    0          | 8000          |  834          | 121           | 8955          |\n",
       "\n"
      ],
      "text/plain": [
       "  city         area rooms bathroom parking.spaces floor animal    furniture    \n",
       "1 São Paulo     70  2     1        1              7     acept     furnished    \n",
       "2 São Paulo    320  4     4        0              20    acept     not furnished\n",
       "3 Porto Alegre  80  1     1        1              6     acept     not furnished\n",
       "4 Porto Alegre  51  2     1        0              2     acept     not furnished\n",
       "5 São Paulo     25  1     1        0              1     not acept not furnished\n",
       "6 São Paulo    376  3     3        7              -     acept     not furnished\n",
       "  hoa  rent.amount property.tax fire.insurance total\n",
       "1 2065 3300         211          42            5618 \n",
       "2 1200 4960        1750          63            7973 \n",
       "3 1000 2800           0          41            3841 \n",
       "4  270 1112          22          17            1421 \n",
       "5    0  800          25          11             836 \n",
       "6    0 8000         834         121            8955 "
      ]
     },
     "metadata": {},
     "output_type": "display_data"
    }
   ],
   "source": [
    "df <- read.csv(\"../data/houses_to_rent_v2.csv\", encoding=\"UTF-8\", header=TRUE, sep=\",\")\n",
    "head(df)"
   ]
  },
  {
   "cell_type": "code",
   "execution_count": 3,
   "metadata": {},
   "outputs": [
    {
     "data": {
      "text/html": [
       "<ol class=list-inline>\n",
       "\t<li>'city'</li>\n",
       "\t<li>'area'</li>\n",
       "\t<li>'rooms'</li>\n",
       "\t<li>'bathroom'</li>\n",
       "\t<li>'parking.spaces'</li>\n",
       "\t<li>'floor'</li>\n",
       "\t<li>'animal'</li>\n",
       "\t<li>'furniture'</li>\n",
       "\t<li>'hoa'</li>\n",
       "\t<li>'rent.amount'</li>\n",
       "\t<li>'property.tax'</li>\n",
       "\t<li>'fire.insurance'</li>\n",
       "\t<li>'total'</li>\n",
       "</ol>\n"
      ],
      "text/latex": [
       "\\begin{enumerate*}\n",
       "\\item 'city'\n",
       "\\item 'area'\n",
       "\\item 'rooms'\n",
       "\\item 'bathroom'\n",
       "\\item 'parking.spaces'\n",
       "\\item 'floor'\n",
       "\\item 'animal'\n",
       "\\item 'furniture'\n",
       "\\item 'hoa'\n",
       "\\item 'rent.amount'\n",
       "\\item 'property.tax'\n",
       "\\item 'fire.insurance'\n",
       "\\item 'total'\n",
       "\\end{enumerate*}\n"
      ],
      "text/markdown": [
       "1. 'city'\n",
       "2. 'area'\n",
       "3. 'rooms'\n",
       "4. 'bathroom'\n",
       "5. 'parking.spaces'\n",
       "6. 'floor'\n",
       "7. 'animal'\n",
       "8. 'furniture'\n",
       "9. 'hoa'\n",
       "10. 'rent.amount'\n",
       "11. 'property.tax'\n",
       "12. 'fire.insurance'\n",
       "13. 'total'\n",
       "\n",
       "\n"
      ],
      "text/plain": [
       " [1] \"city\"           \"area\"           \"rooms\"          \"bathroom\"      \n",
       " [5] \"parking.spaces\" \"floor\"          \"animal\"         \"furniture\"     \n",
       " [9] \"hoa\"            \"rent.amount\"    \"property.tax\"   \"fire.insurance\"\n",
       "[13] \"total\"         "
      ]
     },
     "metadata": {},
     "output_type": "display_data"
    }
   ],
   "source": [
    "colnames(df)"
   ]
  },
  {
   "cell_type": "code",
   "execution_count": 4,
   "metadata": {},
   "outputs": [
    {
     "data": {
      "text/html": [
       "'O dataset acima possui 10692 linhas e 13 colunas, sendo em 5 cidades diferentes.'"
      ],
      "text/latex": [
       "'O dataset acima possui 10692 linhas e 13 colunas, sendo em 5 cidades diferentes.'"
      ],
      "text/markdown": [
       "'O dataset acima possui 10692 linhas e 13 colunas, sendo em 5 cidades diferentes.'"
      ],
      "text/plain": [
       "[1] \"O dataset acima possui 10692 linhas e 13 colunas, sendo em 5 cidades diferentes.\""
      ]
     },
     "metadata": {},
     "output_type": "display_data"
    }
   ],
   "source": [
    "df_shape <- dim(df)\n",
    "uni_cities <- length(unique(df$city))\n",
    "sprintf(\"O dataset acima possui %s linhas e %s colunas, sendo em %s cidades diferentes.\", df_shape[1], df_shape[2], uni_cities)"
   ]
  },
  {
   "cell_type": "markdown",
   "metadata": {},
   "source": [
    "A função abaixo retorna se alguma coluna no dataframe possui campos nulos. Como o dataframe possui todos seus campos completos, não será necessário realizar nenhum tipo de preenchimento nos campos."
   ]
  },
  {
   "cell_type": "code",
   "execution_count": 5,
   "metadata": {},
   "outputs": [
    {
     "data": {
      "text/html": [
       "<dl class=dl-horizontal>\n",
       "\t<dt>city</dt>\n",
       "\t\t<dd>FALSE</dd>\n",
       "\t<dt>area</dt>\n",
       "\t\t<dd>FALSE</dd>\n",
       "\t<dt>rooms</dt>\n",
       "\t\t<dd>FALSE</dd>\n",
       "\t<dt>bathroom</dt>\n",
       "\t\t<dd>FALSE</dd>\n",
       "\t<dt>parking.spaces</dt>\n",
       "\t\t<dd>FALSE</dd>\n",
       "\t<dt>floor</dt>\n",
       "\t\t<dd>FALSE</dd>\n",
       "\t<dt>animal</dt>\n",
       "\t\t<dd>FALSE</dd>\n",
       "\t<dt>furniture</dt>\n",
       "\t\t<dd>FALSE</dd>\n",
       "\t<dt>hoa</dt>\n",
       "\t\t<dd>FALSE</dd>\n",
       "\t<dt>rent.amount</dt>\n",
       "\t\t<dd>FALSE</dd>\n",
       "\t<dt>property.tax</dt>\n",
       "\t\t<dd>FALSE</dd>\n",
       "\t<dt>fire.insurance</dt>\n",
       "\t\t<dd>FALSE</dd>\n",
       "\t<dt>total</dt>\n",
       "\t\t<dd>FALSE</dd>\n",
       "</dl>\n"
      ],
      "text/latex": [
       "\\begin{description*}\n",
       "\\item[city] FALSE\n",
       "\\item[area] FALSE\n",
       "\\item[rooms] FALSE\n",
       "\\item[bathroom] FALSE\n",
       "\\item[parking.spaces] FALSE\n",
       "\\item[floor] FALSE\n",
       "\\item[animal] FALSE\n",
       "\\item[furniture] FALSE\n",
       "\\item[hoa] FALSE\n",
       "\\item[rent.amount] FALSE\n",
       "\\item[property.tax] FALSE\n",
       "\\item[fire.insurance] FALSE\n",
       "\\item[total] FALSE\n",
       "\\end{description*}\n"
      ],
      "text/markdown": [
       "city\n",
       ":   FALSEarea\n",
       ":   FALSErooms\n",
       ":   FALSEbathroom\n",
       ":   FALSEparking.spaces\n",
       ":   FALSEfloor\n",
       ":   FALSEanimal\n",
       ":   FALSEfurniture\n",
       ":   FALSEhoa\n",
       ":   FALSErent.amount\n",
       ":   FALSEproperty.tax\n",
       ":   FALSEfire.insurance\n",
       ":   FALSEtotal\n",
       ":   FALSE\n",
       "\n"
      ],
      "text/plain": [
       "          city           area          rooms       bathroom parking.spaces \n",
       "         FALSE          FALSE          FALSE          FALSE          FALSE \n",
       "         floor         animal      furniture            hoa    rent.amount \n",
       "         FALSE          FALSE          FALSE          FALSE          FALSE \n",
       "  property.tax fire.insurance          total \n",
       "         FALSE          FALSE          FALSE "
      ]
     },
     "metadata": {},
     "output_type": "display_data"
    }
   ],
   "source": [
    "apply(df, 2, function(x) any(is.na(x)))"
   ]
  },
  {
   "cell_type": "markdown",
   "metadata": {},
   "source": [
    "## Análise univariada\n",
    "Abaixo será realizada análise individuais de algumas variáveis disponíveis no dataset, começando pela principal, que é o preço do aluguel."
   ]
  },
  {
   "cell_type": "code",
   "execution_count": 6,
   "metadata": {},
   "outputs": [
    {
     "data": {
      "text/plain": [
       "             city           area             rooms           bathroom     \n",
       " Belo Horizonte:1258   Min.   :   11.0   Min.   : 1.000   Min.   : 1.000  \n",
       " Campinas      : 853   1st Qu.:   56.0   1st Qu.: 2.000   1st Qu.: 1.000  \n",
       " Porto Alegre  :1193   Median :   90.0   Median : 2.000   Median : 2.000  \n",
       " Rio de Janeiro:1501   Mean   :  149.2   Mean   : 2.506   Mean   : 2.237  \n",
       " São Paulo     :5887   3rd Qu.:  182.0   3rd Qu.: 3.000   3rd Qu.: 3.000  \n",
       "                       Max.   :46335.0   Max.   :13.000   Max.   :10.000  \n",
       "                                                                          \n",
       " parking.spaces       floor            animal             furniture   \n",
       " Min.   : 0.000   -      :2461   acept    :8316   furnished    :2606  \n",
       " 1st Qu.: 0.000   1      :1081   not acept:2376   not furnished:8086  \n",
       " Median : 1.000   2      : 985                                        \n",
       " Mean   : 1.609   3      : 931                                        \n",
       " 3rd Qu.: 2.000   4      : 748                                        \n",
       " Max.   :12.000   5      : 600                                        \n",
       "                  (Other):3886                                        \n",
       "      hoa           rent.amount     property.tax      fire.insurance \n",
       " Min.   :      0   Min.   :  450   Min.   :     0.0   Min.   :  3.0  \n",
       " 1st Qu.:    170   1st Qu.: 1530   1st Qu.:    38.0   1st Qu.: 21.0  \n",
       " Median :    560   Median : 2661   Median :   125.0   Median : 36.0  \n",
       " Mean   :   1174   Mean   : 3896   Mean   :   366.7   Mean   : 53.3  \n",
       " 3rd Qu.:   1238   3rd Qu.: 5000   3rd Qu.:   375.0   3rd Qu.: 68.0  \n",
       " Max.   :1117000   Max.   :45000   Max.   :313700.0   Max.   :677.0  \n",
       "                                                                     \n",
       "     total        \n",
       " Min.   :    499  \n",
       " 1st Qu.:   2062  \n",
       " Median :   3582  \n",
       " Mean   :   5490  \n",
       " 3rd Qu.:   6768  \n",
       " Max.   :1120000  \n",
       "                  "
      ]
     },
     "metadata": {},
     "output_type": "display_data"
    }
   ],
   "source": [
    "summary(df)"
   ]
  },
  {
   "cell_type": "markdown",
   "metadata": {},
   "source": [
    "Utilizando a função ```summary``` é possível ter uma rápida análise univariadas sobre os diversos campos disponíveis no dataset. Por exemplo no campo **hoa**, que é referente ao valor do condomínio, 75% dos valores de condominios são de até 1.238 reais."
   ]
  },
  {
   "cell_type": "code",
   "execution_count": 7,
   "metadata": {},
   "outputs": [
    {
     "name": "stderr",
     "output_type": "stream",
     "text": [
      "Warning message:\n",
      "\"Removed 12 rows containing non-finite values (stat_bin).\"Warning message:\n",
      "\"Removed 2 rows containing missing values (geom_bar).\""
     ]
    },
    {
     "data": {
      "image/png": "[encoded data removed]",
      "text/plain": [
       "plot without title"
      ]
     },
     "metadata": {},
     "output_type": "display_data"
    }
   ],
   "source": [
    "g_hist <- qplot(\n",
    "    df$rent.amount, geom=\"histogram\", xlab=\"Valor do Aluguel\", xlim=c(0,17000), ylim=c(0,1500),\n",
    "    binwidth=500, main = \"Histograma de valores de aluguéis\", fill=I(\"blue\"), alpha=I(.2),\n",
    ")\n",
    "g_hist"
   ]
  },
  {
   "cell_type": "markdown",
   "metadata": {},
   "source": [
    "O maior pico no histograma está na faixa de 1.000 a 1.999 reais, o qual engloba aproximadamente 28% de todo o dataset."
   ]
  },
  {
   "cell_type": "code",
   "execution_count": 17,
   "metadata": {},
   "outputs": [
    {
     "data": {
      "text/html": [
       "<table>\n",
       "<thead><tr><th scope=col>city</th><th scope=col>area</th><th scope=col>rooms</th><th scope=col>bathroom</th><th scope=col>parking.spaces</th><th scope=col>floor</th><th scope=col>animal</th><th scope=col>furniture</th><th scope=col>hoa</th><th scope=col>rent.amount</th><th scope=col>property.tax</th><th scope=col>fire.insurance</th><th scope=col>total</th></tr></thead>\n",
       "<tbody>\n",
       "\t<tr><td>São Paulo     </td><td> 70           </td><td>2             </td><td>1             </td><td>1             </td><td>7             </td><td>acept         </td><td>furnished     </td><td>2065          </td><td> 3300         </td><td> 211          </td><td> 42           </td><td> 5618         </td></tr>\n",
       "\t<tr><td>São Paulo     </td><td>320           </td><td>4             </td><td>4             </td><td>0             </td><td>20            </td><td>acept         </td><td>not furnished </td><td>1200          </td><td> 4960         </td><td>1750          </td><td> 63           </td><td> 7973         </td></tr>\n",
       "\t<tr><td>Porto Alegre  </td><td> 80           </td><td>1             </td><td>1             </td><td>1             </td><td>6             </td><td>acept         </td><td>not furnished </td><td>1000          </td><td> 2800         </td><td>   0          </td><td> 41           </td><td> 3841         </td></tr>\n",
       "\t<tr><td>Porto Alegre  </td><td> 51           </td><td>2             </td><td>1             </td><td>0             </td><td>2             </td><td>acept         </td><td>not furnished </td><td> 270          </td><td> 1112         </td><td>  22          </td><td> 17           </td><td> 1421         </td></tr>\n",
       "\t<tr><td>São Paulo     </td><td> 25           </td><td>1             </td><td>1             </td><td>0             </td><td>1             </td><td>not acept     </td><td>not furnished </td><td>   0          </td><td>  800         </td><td>  25          </td><td> 11           </td><td>  836         </td></tr>\n",
       "\t<tr><td>São Paulo     </td><td>376           </td><td>3             </td><td>3             </td><td>7             </td><td>-             </td><td>acept         </td><td>not furnished </td><td>   0          </td><td> 8000         </td><td> 834          </td><td>121           </td><td> 8955         </td></tr>\n",
       "\t<tr><td>Rio de Janeiro</td><td> 72           </td><td>2             </td><td>1             </td><td>0             </td><td>7             </td><td>acept         </td><td>not furnished </td><td> 740          </td><td> 1900         </td><td>  85          </td><td> 25           </td><td> 2750         </td></tr>\n",
       "\t<tr><td>São Paulo     </td><td>213           </td><td>4             </td><td>4             </td><td>4             </td><td>4             </td><td>acept         </td><td>not furnished </td><td>2254          </td><td> 3223         </td><td>1735          </td><td> 41           </td><td> 7253         </td></tr>\n",
       "\t<tr><td>São Paulo     </td><td>152           </td><td>2             </td><td>2             </td><td>1             </td><td>3             </td><td>acept         </td><td>furnished     </td><td>1000          </td><td>15000         </td><td> 250          </td><td>191           </td><td>16440         </td></tr>\n",
       "\t<tr><td>Rio de Janeiro</td><td> 35           </td><td>1             </td><td>1             </td><td>0             </td><td>2             </td><td>acept         </td><td>furnished     </td><td> 590          </td><td> 2300         </td><td>  35          </td><td> 30           </td><td> 2955         </td></tr>\n",
       "\t<tr><td>São Paulo     </td><td> 26           </td><td>1             </td><td>1             </td><td>0             </td><td>2             </td><td>acept         </td><td>furnished     </td><td> 470          </td><td> 2100         </td><td> 150          </td><td> 27           </td><td> 2747         </td></tr>\n",
       "\t<tr><td>Campinas      </td><td> 46           </td><td>1             </td><td>1             </td><td>1             </td><td>10            </td><td>acept         </td><td>not furnished </td><td> 550          </td><td>  580         </td><td>  43          </td><td>  8           </td><td> 1181         </td></tr>\n",
       "\t<tr><td>São Paulo     </td><td> 36           </td><td>1             </td><td>1             </td><td>0             </td><td>11            </td><td>acept         </td><td>not furnished </td><td> 359          </td><td> 2100         </td><td>  70          </td><td> 27           </td><td> 2556         </td></tr>\n",
       "\t<tr><td>São Paulo     </td><td> 55           </td><td>1             </td><td>1             </td><td>1             </td><td>2             </td><td>acept         </td><td>furnished     </td><td> 790          </td><td> 4200         </td><td> 224          </td><td> 54           </td><td> 5268         </td></tr>\n",
       "\t<tr><td>São Paulo     </td><td>100           </td><td>2             </td><td>2             </td><td>2             </td><td>24            </td><td>acept         </td><td>furnished     </td><td> 900          </td><td> 4370         </td><td>  17          </td><td> 56           </td><td> 5343         </td></tr>\n",
       "\t<tr><td>Campinas      </td><td>330           </td><td>4             </td><td>6             </td><td>6             </td><td>-             </td><td>acept         </td><td>furnished     </td><td> 680          </td><td> 8000         </td><td> 328          </td><td>121           </td><td> 9129         </td></tr>\n",
       "\t<tr><td>São Paulo     </td><td>110           </td><td>2             </td><td>2             </td><td>1             </td><td>1             </td><td>acept         </td><td>not furnished </td><td> 700          </td><td> 3000         </td><td> 122          </td><td> 39           </td><td> 3861         </td></tr>\n",
       "\t<tr><td>Rio de Janeiro</td><td> 88           </td><td>2             </td><td>3             </td><td>1             </td><td>9             </td><td>not acept     </td><td>furnished     </td><td>1614          </td><td> 3500         </td><td> 221          </td><td> 16           </td><td> 5351         </td></tr>\n",
       "\t<tr><td>Rio de Janeiro</td><td> 56           </td><td>2             </td><td>1             </td><td>0             </td><td>8             </td><td>acept         </td><td>not furnished </td><td> 800          </td><td> 1220         </td><td>   0          </td><td> 16           </td><td> 2036         </td></tr>\n",
       "\t<tr><td>São Paulo     </td><td>600           </td><td>4             </td><td>5             </td><td>6             </td><td>-             </td><td>acept         </td><td>not furnished </td><td>   0          </td><td>12000         </td><td>9500          </td><td>181           </td><td>21680         </td></tr>\n",
       "\t<tr><td>São Paulo     </td><td>100           </td><td>7             </td><td>4             </td><td>0             </td><td>-             </td><td>acept         </td><td>not furnished </td><td>   0          </td><td> 3800         </td><td> 118          </td><td> 58           </td><td> 3976         </td></tr>\n",
       "\t<tr><td>Belo Horizonte</td><td> 42           </td><td>1             </td><td>1             </td><td>1             </td><td>17            </td><td>not acept     </td><td>furnished     </td><td> 470          </td><td> 2690         </td><td> 172          </td><td> 36           </td><td> 3368         </td></tr>\n",
       "\t<tr><td>São Paulo     </td><td>160           </td><td>3             </td><td>2             </td><td>2             </td><td>18            </td><td>acept         </td><td>furnished     </td><td>1530          </td><td> 1900         </td><td> 167          </td><td> 25           </td><td> 3622         </td></tr>\n",
       "\t<tr><td>São Paulo     </td><td> 35           </td><td>1             </td><td>1             </td><td>0             </td><td>-             </td><td>acept         </td><td>not furnished </td><td>   0          </td><td> 1100         </td><td>   3          </td><td> 14           </td><td> 1117         </td></tr>\n",
       "\t<tr><td>Rio de Janeiro</td><td> 90           </td><td>3             </td><td>2             </td><td>1             </td><td>7             </td><td>acept         </td><td>not furnished </td><td> 800          </td><td> 1800         </td><td> 118          </td><td> 24           </td><td> 2742         </td></tr>\n",
       "\t<tr><td>São Paulo     </td><td> 49           </td><td>1             </td><td>1             </td><td>1             </td><td>10            </td><td>acept         </td><td>not furnished </td><td> 480          </td><td> 3500         </td><td>  42          </td><td> 45           </td><td> 4067         </td></tr>\n",
       "\t<tr><td>São Paulo     </td><td> 41           </td><td>1             </td><td>1             </td><td>1             </td><td>5             </td><td>not acept     </td><td>furnished     </td><td> 600          </td><td> 3000         </td><td>   0          </td><td> 39           </td><td> 3639         </td></tr>\n",
       "\t<tr><td>Belo Horizonte</td><td> 64           </td><td>2             </td><td>2             </td><td>1             </td><td>11            </td><td>acept         </td><td>not furnished </td><td> 352          </td><td> 1500         </td><td>  80          </td><td> 20           </td><td> 1952         </td></tr>\n",
       "\t<tr><td>Campinas      </td><td>208           </td><td>3             </td><td>2             </td><td>4             </td><td>-             </td><td>acept         </td><td>not furnished </td><td>   0          </td><td> 3180         </td><td> 100          </td><td> 48           </td><td> 3328         </td></tr>\n",
       "\t<tr><td>São Paulo     </td><td> 20           </td><td>1             </td><td>1             </td><td>0             </td><td>5             </td><td>acept         </td><td>furnished     </td><td> 602          </td><td> 1800         </td><td> 130          </td><td> 23           </td><td> 2555         </td></tr>\n",
       "\t<tr><td>...</td><td>...</td><td>...</td><td>...</td><td>...</td><td>...</td><td>...</td><td>...</td><td>...</td><td>...</td><td>...</td><td>...</td><td>...</td></tr>\n",
       "\t<tr><td>São Paulo     </td><td>238           </td><td>4             </td><td>3             </td><td>1             </td><td>7             </td><td>acept         </td><td>not furnished </td><td>2515          </td><td> 4500         </td><td> 575          </td><td> 58           </td><td> 7648         </td></tr>\n",
       "\t<tr><td>São Paulo     </td><td> 90           </td><td>3             </td><td>1             </td><td>0             </td><td>13            </td><td>acept         </td><td>not furnished </td><td> 785          </td><td> 1600         </td><td>   0          </td><td> 21           </td><td> 2406         </td></tr>\n",
       "\t<tr><td>Rio de Janeiro</td><td>310           </td><td>3             </td><td>2             </td><td>0             </td><td>5             </td><td>not acept     </td><td>not furnished </td><td>2500          </td><td> 6000         </td><td> 595          </td><td> 78           </td><td> 9173         </td></tr>\n",
       "\t<tr><td>Belo Horizonte</td><td> 55           </td><td>2             </td><td>1             </td><td>1             </td><td>2             </td><td>not acept     </td><td>furnished     </td><td> 200          </td><td> 1600         </td><td>  75          </td><td> 22           </td><td> 1897         </td></tr>\n",
       "\t<tr><td>Rio de Janeiro</td><td> 60           </td><td>2             </td><td>2             </td><td>0             </td><td>13            </td><td>acept         </td><td>not furnished </td><td> 600          </td><td> 2700         </td><td> 154          </td><td> 35           </td><td> 3489         </td></tr>\n",
       "\t<tr><td>Belo Horizonte</td><td> 75           </td><td>2             </td><td>1             </td><td>1             </td><td>3             </td><td>not acept     </td><td>not furnished </td><td> 180          </td><td> 1250         </td><td>   0          </td><td> 17           </td><td> 1447         </td></tr>\n",
       "\t<tr><td>São Paulo     </td><td> 24           </td><td>1             </td><td>1             </td><td>0             </td><td>-             </td><td>acept         </td><td>not furnished </td><td>   0          </td><td>  870         </td><td>   0          </td><td> 14           </td><td>  884         </td></tr>\n",
       "\t<tr><td>São Paulo     </td><td>340           </td><td>4             </td><td>5             </td><td>3             </td><td>15            </td><td>not acept     </td><td>furnished     </td><td>3519          </td><td>12000         </td><td>1287          </td><td>153           </td><td>16960         </td></tr>\n",
       "\t<tr><td>São Paulo     </td><td>165           </td><td>3             </td><td>3             </td><td>2             </td><td>2             </td><td>acept         </td><td>furnished     </td><td>1150          </td><td> 2710         </td><td>  84          </td><td> 35           </td><td> 3979         </td></tr>\n",
       "\t<tr><td>São Paulo     </td><td> 84           </td><td>2             </td><td>2             </td><td>1             </td><td>16            </td><td>not acept     </td><td>furnished     </td><td> 768          </td><td> 2900         </td><td>  63          </td><td> 37           </td><td> 3768         </td></tr>\n",
       "\t<tr><td>São Paulo     </td><td>126           </td><td>2             </td><td>1             </td><td>0             </td><td>13            </td><td>acept         </td><td>not furnished </td><td> 570          </td><td> 2580         </td><td>   0          </td><td> 33           </td><td> 3183         </td></tr>\n",
       "\t<tr><td>Porto Alegre  </td><td>220           </td><td>3             </td><td>2             </td><td>2             </td><td>15            </td><td>acept         </td><td>not furnished </td><td> 842          </td><td> 2400         </td><td> 117          </td><td> 36           </td><td> 3395         </td></tr>\n",
       "\t<tr><td>Rio de Janeiro</td><td>135           </td><td>4             </td><td>2             </td><td>1             </td><td>-             </td><td>acept         </td><td>not furnished </td><td>   0          </td><td> 3300         </td><td> 115          </td><td> 51           </td><td> 3466         </td></tr>\n",
       "\t<tr><td>Rio de Janeiro</td><td>250           </td><td>3             </td><td>2             </td><td>1             </td><td>11            </td><td>acept         </td><td>not furnished </td><td>2000          </td><td> 2700         </td><td> 500          </td><td> 35           </td><td> 5235         </td></tr>\n",
       "\t<tr><td>Porto Alegre  </td><td> 40           </td><td>1             </td><td>1             </td><td>0             </td><td>1             </td><td>acept         </td><td>not furnished </td><td> 330          </td><td> 1200         </td><td> 159          </td><td> 18           </td><td> 1707         </td></tr>\n",
       "\t<tr><td>São Paulo     </td><td> 38           </td><td>1             </td><td>1             </td><td>0             </td><td>19            </td><td>not acept     </td><td>not furnished </td><td> 583          </td><td> 1000         </td><td>  46          </td><td> 13           </td><td> 1642         </td></tr>\n",
       "\t<tr><td>São Paulo     </td><td>141           </td><td>3             </td><td>5             </td><td>0             </td><td>4             </td><td>acept         </td><td>not furnished </td><td> 909          </td><td>10140         </td><td> 772          </td><td>129           </td><td>11950         </td></tr>\n",
       "\t<tr><td>São Paulo     </td><td> 61           </td><td>1             </td><td>2             </td><td>1             </td><td>13            </td><td>acept         </td><td>not furnished </td><td> 680          </td><td> 4000         </td><td> 140          </td><td> 51           </td><td> 4871         </td></tr>\n",
       "\t<tr><td>São Paulo     </td><td>156           </td><td>4             </td><td>4             </td><td>3             </td><td>1             </td><td>acept         </td><td>furnished     </td><td>2000          </td><td> 2200         </td><td> 750          </td><td> 28           </td><td> 4978         </td></tr>\n",
       "\t<tr><td>São Paulo     </td><td>230           </td><td>3             </td><td>5             </td><td>3             </td><td>3             </td><td>not acept     </td><td>not furnished </td><td>3800          </td><td>11000         </td><td>1100          </td><td>140           </td><td>16040         </td></tr>\n",
       "\t<tr><td>Porto Alegre  </td><td>160           </td><td>3             </td><td>2             </td><td>3             </td><td>4             </td><td>acept         </td><td>furnished     </td><td> 850          </td><td> 3300         </td><td> 220          </td><td> 49           </td><td> 4419         </td></tr>\n",
       "\t<tr><td>São Paulo     </td><td>280           </td><td>4             </td><td>4             </td><td>2             </td><td>5             </td><td>acept         </td><td>not furnished </td><td>4200          </td><td> 4000         </td><td>1042          </td><td> 51           </td><td> 9293         </td></tr>\n",
       "\t<tr><td>Rio de Janeiro</td><td> 98           </td><td>2             </td><td>1             </td><td>0             </td><td>1             </td><td>acept         </td><td>not furnished </td><td> 560          </td><td> 3900         </td><td> 184          </td><td> 51           </td><td> 4695         </td></tr>\n",
       "\t<tr><td>São Paulo     </td><td> 83           </td><td>3             </td><td>2             </td><td>2             </td><td>11            </td><td>acept         </td><td>not furnished </td><td> 888          </td><td> 7521         </td><td> 221          </td><td> 96           </td><td> 8726         </td></tr>\n",
       "\t<tr><td>São Paulo     </td><td>150           </td><td>3             </td><td>3             </td><td>2             </td><td>8             </td><td>not acept     </td><td>furnished     </td><td>   0          </td><td>13500         </td><td>   0          </td><td>172           </td><td>13670         </td></tr>\n",
       "\t<tr><td>Porto Alegre  </td><td> 63           </td><td>2             </td><td>1             </td><td>1             </td><td>5             </td><td>not acept     </td><td>furnished     </td><td> 402          </td><td> 1478         </td><td>  24          </td><td> 22           </td><td> 1926         </td></tr>\n",
       "\t<tr><td>São Paulo     </td><td>285           </td><td>4             </td><td>4             </td><td>4             </td><td>17            </td><td>acept         </td><td>not furnished </td><td>3100          </td><td>15000         </td><td> 973          </td><td>191           </td><td>19260         </td></tr>\n",
       "\t<tr><td>Rio de Janeiro</td><td> 70           </td><td>3             </td><td>3             </td><td>0             </td><td>8             </td><td>not acept     </td><td>furnished     </td><td> 980          </td><td> 6000         </td><td> 332          </td><td> 78           </td><td> 7390         </td></tr>\n",
       "\t<tr><td>Rio de Janeiro</td><td>120           </td><td>2             </td><td>2             </td><td>2             </td><td>8             </td><td>acept         </td><td>furnished     </td><td>1585          </td><td>12000         </td><td> 279          </td><td>155           </td><td>14020         </td></tr>\n",
       "\t<tr><td>São Paulo     </td><td> 80           </td><td>2             </td><td>1             </td><td>0             </td><td>-             </td><td>acept         </td><td>not furnished </td><td>   0          </td><td> 1400         </td><td> 165          </td><td> 22           </td><td> 1587         </td></tr>\n",
       "</tbody>\n",
       "</table>\n"
      ],
      "text/latex": [
       "\\begin{tabular}{r|lllllllllllll}\n",
       " city & area & rooms & bathroom & parking.spaces & floor & animal & furniture & hoa & rent.amount & property.tax & fire.insurance & total\\\\\n",
       "\\hline\n",
       "\t São Paulo      &  70            & 2              & 1              & 1              & 7              & acept          & furnished      & 2065           &  3300          &  211           &  42            &  5618         \\\\\n",
       "\t São Paulo      & 320            & 4              & 4              & 0              & 20             & acept          & not furnished  & 1200           &  4960          & 1750           &  63            &  7973         \\\\\n",
       "\t Porto Alegre   &  80            & 1              & 1              & 1              & 6              & acept          & not furnished  & 1000           &  2800          &    0           &  41            &  3841         \\\\\n",
       "\t Porto Alegre   &  51            & 2              & 1              & 0              & 2              & acept          & not furnished  &  270           &  1112          &   22           &  17            &  1421         \\\\\n",
       "\t São Paulo      &  25            & 1              & 1              & 0              & 1              & not acept      & not furnished  &    0           &   800          &   25           &  11            &   836         \\\\\n",
       "\t São Paulo      & 376            & 3              & 3              & 7              & -              & acept          & not furnished  &    0           &  8000          &  834           & 121            &  8955         \\\\\n",
       "\t Rio de Janeiro &  72            & 2              & 1              & 0              & 7              & acept          & not furnished  &  740           &  1900          &   85           &  25            &  2750         \\\\\n",
       "\t São Paulo      & 213            & 4              & 4              & 4              & 4              & acept          & not furnished  & 2254           &  3223          & 1735           &  41            &  7253         \\\\\n",
       "\t São Paulo      & 152            & 2              & 2              & 1              & 3              & acept          & furnished      & 1000           & 15000          &  250           & 191            & 16440         \\\\\n",
       "\t Rio de Janeiro &  35            & 1              & 1              & 0              & 2              & acept          & furnished      &  590           &  2300          &   35           &  30            &  2955         \\\\\n",
       "\t São Paulo      &  26            & 1              & 1              & 0              & 2              & acept          & furnished      &  470           &  2100          &  150           &  27            &  2747         \\\\\n",
       "\t Campinas       &  46            & 1              & 1              & 1              & 10             & acept          & not furnished  &  550           &   580          &   43           &   8            &  1181         \\\\\n",
       "\t São Paulo      &  36            & 1              & 1              & 0              & 11             & acept          & not furnished  &  359           &  2100          &   70           &  27            &  2556         \\\\\n",
       "\t São Paulo      &  55            & 1              & 1              & 1              & 2              & acept          & furnished      &  790           &  4200          &  224           &  54            &  5268         \\\\\n",
       "\t São Paulo      & 100            & 2              & 2              & 2              & 24             & acept          & furnished      &  900           &  4370          &   17           &  56            &  5343         \\\\\n",
       "\t Campinas       & 330            & 4              & 6              & 6              & -              & acept          & furnished      &  680           &  8000          &  328           & 121            &  9129         \\\\\n",
       "\t São Paulo      & 110            & 2              & 2              & 1              & 1              & acept          & not furnished  &  700           &  3000          &  122           &  39            &  3861         \\\\\n",
       "\t Rio de Janeiro &  88            & 2              & 3              & 1              & 9              & not acept      & furnished      & 1614           &  3500          &  221           &  16            &  5351         \\\\\n",
       "\t Rio de Janeiro &  56            & 2              & 1              & 0              & 8              & acept          & not furnished  &  800           &  1220          &    0           &  16            &  2036         \\\\\n",
       "\t São Paulo      & 600            & 4              & 5              & 6              & -              & acept          & not furnished  &    0           & 12000          & 9500           & 181            & 21680         \\\\\n",
       "\t São Paulo      & 100            & 7              & 4              & 0              & -              & acept          & not furnished  &    0           &  3800          &  118           &  58            &  3976         \\\\\n",
       "\t Belo Horizonte &  42            & 1              & 1              & 1              & 17             & not acept      & furnished      &  470           &  2690          &  172           &  36            &  3368         \\\\\n",
       "\t São Paulo      & 160            & 3              & 2              & 2              & 18             & acept          & furnished      & 1530           &  1900          &  167           &  25            &  3622         \\\\\n",
       "\t São Paulo      &  35            & 1              & 1              & 0              & -              & acept          & not furnished  &    0           &  1100          &    3           &  14            &  1117         \\\\\n",
       "\t Rio de Janeiro &  90            & 3              & 2              & 1              & 7              & acept          & not furnished  &  800           &  1800          &  118           &  24            &  2742         \\\\\n",
       "\t São Paulo      &  49            & 1              & 1              & 1              & 10             & acept          & not furnished  &  480           &  3500          &   42           &  45            &  4067         \\\\\n",
       "\t São Paulo      &  41            & 1              & 1              & 1              & 5              & not acept      & furnished      &  600           &  3000          &    0           &  39            &  3639         \\\\\n",
       "\t Belo Horizonte &  64            & 2              & 2              & 1              & 11             & acept          & not furnished  &  352           &  1500          &   80           &  20            &  1952         \\\\\n",
       "\t Campinas       & 208            & 3              & 2              & 4              & -              & acept          & not furnished  &    0           &  3180          &  100           &  48            &  3328         \\\\\n",
       "\t São Paulo      &  20            & 1              & 1              & 0              & 5              & acept          & furnished      &  602           &  1800          &  130           &  23            &  2555         \\\\\n",
       "\t ... & ... & ... & ... & ... & ... & ... & ... & ... & ... & ... & ... & ...\\\\\n",
       "\t São Paulo      & 238            & 4              & 3              & 1              & 7              & acept          & not furnished  & 2515           &  4500          &  575           &  58            &  7648         \\\\\n",
       "\t São Paulo      &  90            & 3              & 1              & 0              & 13             & acept          & not furnished  &  785           &  1600          &    0           &  21            &  2406         \\\\\n",
       "\t Rio de Janeiro & 310            & 3              & 2              & 0              & 5              & not acept      & not furnished  & 2500           &  6000          &  595           &  78            &  9173         \\\\\n",
       "\t Belo Horizonte &  55            & 2              & 1              & 1              & 2              & not acept      & furnished      &  200           &  1600          &   75           &  22            &  1897         \\\\\n",
       "\t Rio de Janeiro &  60            & 2              & 2              & 0              & 13             & acept          & not furnished  &  600           &  2700          &  154           &  35            &  3489         \\\\\n",
       "\t Belo Horizonte &  75            & 2              & 1              & 1              & 3              & not acept      & not furnished  &  180           &  1250          &    0           &  17            &  1447         \\\\\n",
       "\t São Paulo      &  24            & 1              & 1              & 0              & -              & acept          & not furnished  &    0           &   870          &    0           &  14            &   884         \\\\\n",
       "\t São Paulo      & 340            & 4              & 5              & 3              & 15             & not acept      & furnished      & 3519           & 12000          & 1287           & 153            & 16960         \\\\\n",
       "\t São Paulo      & 165            & 3              & 3              & 2              & 2              & acept          & furnished      & 1150           &  2710          &   84           &  35            &  3979         \\\\\n",
       "\t São Paulo      &  84            & 2              & 2              & 1              & 16             & not acept      & furnished      &  768           &  2900          &   63           &  37            &  3768         \\\\\n",
       "\t São Paulo      & 126            & 2              & 1              & 0              & 13             & acept          & not furnished  &  570           &  2580          &    0           &  33            &  3183         \\\\\n",
       "\t Porto Alegre   & 220            & 3              & 2              & 2              & 15             & acept          & not furnished  &  842           &  2400          &  117           &  36            &  3395         \\\\\n",
       "\t Rio de Janeiro & 135            & 4              & 2              & 1              & -              & acept          & not furnished  &    0           &  3300          &  115           &  51            &  3466         \\\\\n",
       "\t Rio de Janeiro & 250            & 3              & 2              & 1              & 11             & acept          & not furnished  & 2000           &  2700          &  500           &  35            &  5235         \\\\\n",
       "\t Porto Alegre   &  40            & 1              & 1              & 0              & 1              & acept          & not furnished  &  330           &  1200          &  159           &  18            &  1707         \\\\\n",
       "\t São Paulo      &  38            & 1              & 1              & 0              & 19             & not acept      & not furnished  &  583           &  1000          &   46           &  13            &  1642         \\\\\n",
       "\t São Paulo      & 141            & 3              & 5              & 0              & 4              & acept          & not furnished  &  909           & 10140          &  772           & 129            & 11950         \\\\\n",
       "\t São Paulo      &  61            & 1              & 2              & 1              & 13             & acept          & not furnished  &  680           &  4000          &  140           &  51            &  4871         \\\\\n",
       "\t São Paulo      & 156            & 4              & 4              & 3              & 1              & acept          & furnished      & 2000           &  2200          &  750           &  28            &  4978         \\\\\n",
       "\t São Paulo      & 230            & 3              & 5              & 3              & 3              & not acept      & not furnished  & 3800           & 11000          & 1100           & 140            & 16040         \\\\\n",
       "\t Porto Alegre   & 160            & 3              & 2              & 3              & 4              & acept          & furnished      &  850           &  3300          &  220           &  49            &  4419         \\\\\n",
       "\t São Paulo      & 280            & 4              & 4              & 2              & 5              & acept          & not furnished  & 4200           &  4000          & 1042           &  51            &  9293         \\\\\n",
       "\t Rio de Janeiro &  98            & 2              & 1              & 0              & 1              & acept          & not furnished  &  560           &  3900          &  184           &  51            &  4695         \\\\\n",
       "\t São Paulo      &  83            & 3              & 2              & 2              & 11             & acept          & not furnished  &  888           &  7521          &  221           &  96            &  8726         \\\\\n",
       "\t São Paulo      & 150            & 3              & 3              & 2              & 8              & not acept      & furnished      &    0           & 13500          &    0           & 172            & 13670         \\\\\n",
       "\t Porto Alegre   &  63            & 2              & 1              & 1              & 5              & not acept      & furnished      &  402           &  1478          &   24           &  22            &  1926         \\\\\n",
       "\t São Paulo      & 285            & 4              & 4              & 4              & 17             & acept          & not furnished  & 3100           & 15000          &  973           & 191            & 19260         \\\\\n",
       "\t Rio de Janeiro &  70            & 3              & 3              & 0              & 8              & not acept      & furnished      &  980           &  6000          &  332           &  78            &  7390         \\\\\n",
       "\t Rio de Janeiro & 120            & 2              & 2              & 2              & 8              & acept          & furnished      & 1585           & 12000          &  279           & 155            & 14020         \\\\\n",
       "\t São Paulo      &  80            & 2              & 1              & 0              & -              & acept          & not furnished  &    0           &  1400          &  165           &  22            &  1587         \\\\\n",
       "\\end{tabular}\n"
      ],
      "text/markdown": [
       "\n",
       "| city | area | rooms | bathroom | parking.spaces | floor | animal | furniture | hoa | rent.amount | property.tax | fire.insurance | total |\n",
       "|---|---|---|---|---|---|---|---|---|---|---|---|---|\n",
       "| São Paulo      |  70            | 2              | 1              | 1              | 7              | acept          | furnished      | 2065           |  3300          |  211           |  42            |  5618          |\n",
       "| São Paulo      | 320            | 4              | 4              | 0              | 20             | acept          | not furnished  | 1200           |  4960          | 1750           |  63            |  7973          |\n",
       "| Porto Alegre   |  80            | 1              | 1              | 1              | 6              | acept          | not furnished  | 1000           |  2800          |    0           |  41            |  3841          |\n",
       "| Porto Alegre   |  51            | 2              | 1              | 0              | 2              | acept          | not furnished  |  270           |  1112          |   22           |  17            |  1421          |\n",
       "| São Paulo      |  25            | 1              | 1              | 0              | 1              | not acept      | not furnished  |    0           |   800          |   25           |  11            |   836          |\n",
       "| São Paulo      | 376            | 3              | 3              | 7              | -              | acept          | not furnished  |    0           |  8000          |  834           | 121            |  8955          |\n",
       "| Rio de Janeiro |  72            | 2              | 1              | 0              | 7              | acept          | not furnished  |  740           |  1900          |   85           |  25            |  2750          |\n",
       "| São Paulo      | 213            | 4              | 4              | 4              | 4              | acept          | not furnished  | 2254           |  3223          | 1735           |  41            |  7253          |\n",
       "| São Paulo      | 152            | 2              | 2              | 1              | 3              | acept          | furnished      | 1000           | 15000          |  250           | 191            | 16440          |\n",
       "| Rio de Janeiro |  35            | 1              | 1              | 0              | 2              | acept          | furnished      |  590           |  2300          |   35           |  30            |  2955          |\n",
       "| São Paulo      |  26            | 1              | 1              | 0              | 2              | acept          | furnished      |  470           |  2100          |  150           |  27            |  2747          |\n",
       "| Campinas       |  46            | 1              | 1              | 1              | 10             | acept          | not furnished  |  550           |   580          |   43           |   8            |  1181          |\n",
       "| São Paulo      |  36            | 1              | 1              | 0              | 11             | acept          | not furnished  |  359           |  2100          |   70           |  27            |  2556          |\n",
       "| São Paulo      |  55            | 1              | 1              | 1              | 2              | acept          | furnished      |  790           |  4200          |  224           |  54            |  5268          |\n",
       "| São Paulo      | 100            | 2              | 2              | 2              | 24             | acept          | furnished      |  900           |  4370          |   17           |  56            |  5343          |\n",
       "| Campinas       | 330            | 4              | 6              | 6              | -              | acept          | furnished      |  680           |  8000          |  328           | 121            |  9129          |\n",
       "| São Paulo      | 110            | 2              | 2              | 1              | 1              | acept          | not furnished  |  700           |  3000          |  122           |  39            |  3861          |\n",
       "| Rio de Janeiro |  88            | 2              | 3              | 1              | 9              | not acept      | furnished      | 1614           |  3500          |  221           |  16            |  5351          |\n",
       "| Rio de Janeiro |  56            | 2              | 1              | 0              | 8              | acept          | not furnished  |  800           |  1220          |    0           |  16            |  2036          |\n",
       "| São Paulo      | 600            | 4              | 5              | 6              | -              | acept          | not furnished  |    0           | 12000          | 9500           | 181            | 21680          |\n",
       "| São Paulo      | 100            | 7              | 4              | 0              | -              | acept          | not furnished  |    0           |  3800          |  118           |  58            |  3976          |\n",
       "| Belo Horizonte |  42            | 1              | 1              | 1              | 17             | not acept      | furnished      |  470           |  2690          |  172           |  36            |  3368          |\n",
       "| São Paulo      | 160            | 3              | 2              | 2              | 18             | acept          | furnished      | 1530           |  1900          |  167           |  25            |  3622          |\n",
       "| São Paulo      |  35            | 1              | 1              | 0              | -              | acept          | not furnished  |    0           |  1100          |    3           |  14            |  1117          |\n",
       "| Rio de Janeiro |  90            | 3              | 2              | 1              | 7              | acept          | not furnished  |  800           |  1800          |  118           |  24            |  2742          |\n",
       "| São Paulo      |  49            | 1              | 1              | 1              | 10             | acept          | not furnished  |  480           |  3500          |   42           |  45            |  4067          |\n",
       "| São Paulo      |  41            | 1              | 1              | 1              | 5              | not acept      | furnished      |  600           |  3000          |    0           |  39            |  3639          |\n",
       "| Belo Horizonte |  64            | 2              | 2              | 1              | 11             | acept          | not furnished  |  352           |  1500          |   80           |  20            |  1952          |\n",
       "| Campinas       | 208            | 3              | 2              | 4              | -              | acept          | not furnished  |    0           |  3180          |  100           |  48            |  3328          |\n",
       "| São Paulo      |  20            | 1              | 1              | 0              | 5              | acept          | furnished      |  602           |  1800          |  130           |  23            |  2555          |\n",
       "| ... | ... | ... | ... | ... | ... | ... | ... | ... | ... | ... | ... | ... |\n",
       "| São Paulo      | 238            | 4              | 3              | 1              | 7              | acept          | not furnished  | 2515           |  4500          |  575           |  58            |  7648          |\n",
       "| São Paulo      |  90            | 3              | 1              | 0              | 13             | acept          | not furnished  |  785           |  1600          |    0           |  21            |  2406          |\n",
       "| Rio de Janeiro | 310            | 3              | 2              | 0              | 5              | not acept      | not furnished  | 2500           |  6000          |  595           |  78            |  9173          |\n",
       "| Belo Horizonte |  55            | 2              | 1              | 1              | 2              | not acept      | furnished      |  200           |  1600          |   75           |  22            |  1897          |\n",
       "| Rio de Janeiro |  60            | 2              | 2              | 0              | 13             | acept          | not furnished  |  600           |  2700          |  154           |  35            |  3489          |\n",
       "| Belo Horizonte |  75            | 2              | 1              | 1              | 3              | not acept      | not furnished  |  180           |  1250          |    0           |  17            |  1447          |\n",
       "| São Paulo      |  24            | 1              | 1              | 0              | -              | acept          | not furnished  |    0           |   870          |    0           |  14            |   884          |\n",
       "| São Paulo      | 340            | 4              | 5              | 3              | 15             | not acept      | furnished      | 3519           | 12000          | 1287           | 153            | 16960          |\n",
       "| São Paulo      | 165            | 3              | 3              | 2              | 2              | acept          | furnished      | 1150           |  2710          |   84           |  35            |  3979          |\n",
       "| São Paulo      |  84            | 2              | 2              | 1              | 16             | not acept      | furnished      |  768           |  2900          |   63           |  37            |  3768          |\n",
       "| São Paulo      | 126            | 2              | 1              | 0              | 13             | acept          | not furnished  |  570           |  2580          |    0           |  33            |  3183          |\n",
       "| Porto Alegre   | 220            | 3              | 2              | 2              | 15             | acept          | not furnished  |  842           |  2400          |  117           |  36            |  3395          |\n",
       "| Rio de Janeiro | 135            | 4              | 2              | 1              | -              | acept          | not furnished  |    0           |  3300          |  115           |  51            |  3466          |\n",
       "| Rio de Janeiro | 250            | 3              | 2              | 1              | 11             | acept          | not furnished  | 2000           |  2700          |  500           |  35            |  5235          |\n",
       "| Porto Alegre   |  40            | 1              | 1              | 0              | 1              | acept          | not furnished  |  330           |  1200          |  159           |  18            |  1707          |\n",
       "| São Paulo      |  38            | 1              | 1              | 0              | 19             | not acept      | not furnished  |  583           |  1000          |   46           |  13            |  1642          |\n",
       "| São Paulo      | 141            | 3              | 5              | 0              | 4              | acept          | not furnished  |  909           | 10140          |  772           | 129            | 11950          |\n",
       "| São Paulo      |  61            | 1              | 2              | 1              | 13             | acept          | not furnished  |  680           |  4000          |  140           |  51            |  4871          |\n",
       "| São Paulo      | 156            | 4              | 4              | 3              | 1              | acept          | furnished      | 2000           |  2200          |  750           |  28            |  4978          |\n",
       "| São Paulo      | 230            | 3              | 5              | 3              | 3              | not acept      | not furnished  | 3800           | 11000          | 1100           | 140            | 16040          |\n",
       "| Porto Alegre   | 160            | 3              | 2              | 3              | 4              | acept          | furnished      |  850           |  3300          |  220           |  49            |  4419          |\n",
       "| São Paulo      | 280            | 4              | 4              | 2              | 5              | acept          | not furnished  | 4200           |  4000          | 1042           |  51            |  9293          |\n",
       "| Rio de Janeiro |  98            | 2              | 1              | 0              | 1              | acept          | not furnished  |  560           |  3900          |  184           |  51            |  4695          |\n",
       "| São Paulo      |  83            | 3              | 2              | 2              | 11             | acept          | not furnished  |  888           |  7521          |  221           |  96            |  8726          |\n",
       "| São Paulo      | 150            | 3              | 3              | 2              | 8              | not acept      | furnished      |    0           | 13500          |    0           | 172            | 13670          |\n",
       "| Porto Alegre   |  63            | 2              | 1              | 1              | 5              | not acept      | furnished      |  402           |  1478          |   24           |  22            |  1926          |\n",
       "| São Paulo      | 285            | 4              | 4              | 4              | 17             | acept          | not furnished  | 3100           | 15000          |  973           | 191            | 19260          |\n",
       "| Rio de Janeiro |  70            | 3              | 3              | 0              | 8              | not acept      | furnished      |  980           |  6000          |  332           |  78            |  7390          |\n",
       "| Rio de Janeiro | 120            | 2              | 2              | 2              | 8              | acept          | furnished      | 1585           | 12000          |  279           | 155            | 14020          |\n",
       "| São Paulo      |  80            | 2              | 1              | 0              | -              | acept          | not furnished  |    0           |  1400          |  165           |  22            |  1587          |\n",
       "\n"
      ],
      "text/plain": [
       "      city           area rooms bathroom parking.spaces floor animal   \n",
       "1     São Paulo       70  2     1        1              7     acept    \n",
       "2     São Paulo      320  4     4        0              20    acept    \n",
       "3     Porto Alegre    80  1     1        1              6     acept    \n",
       "4     Porto Alegre    51  2     1        0              2     acept    \n",
       "5     São Paulo       25  1     1        0              1     not acept\n",
       "6     São Paulo      376  3     3        7              -     acept    \n",
       "7     Rio de Janeiro  72  2     1        0              7     acept    \n",
       "8     São Paulo      213  4     4        4              4     acept    \n",
       "9     São Paulo      152  2     2        1              3     acept    \n",
       "10    Rio de Janeiro  35  1     1        0              2     acept    \n",
       "11    São Paulo       26  1     1        0              2     acept    \n",
       "12    Campinas        46  1     1        1              10    acept    \n",
       "13    São Paulo       36  1     1        0              11    acept    \n",
       "14    São Paulo       55  1     1        1              2     acept    \n",
       "15    São Paulo      100  2     2        2              24    acept    \n",
       "16    Campinas       330  4     6        6              -     acept    \n",
       "17    São Paulo      110  2     2        1              1     acept    \n",
       "18    Rio de Janeiro  88  2     3        1              9     not acept\n",
       "19    Rio de Janeiro  56  2     1        0              8     acept    \n",
       "20    São Paulo      600  4     5        6              -     acept    \n",
       "21    São Paulo      100  7     4        0              -     acept    \n",
       "22    Belo Horizonte  42  1     1        1              17    not acept\n",
       "23    São Paulo      160  3     2        2              18    acept    \n",
       "24    São Paulo       35  1     1        0              -     acept    \n",
       "25    Rio de Janeiro  90  3     2        1              7     acept    \n",
       "26    São Paulo       49  1     1        1              10    acept    \n",
       "27    São Paulo       41  1     1        1              5     not acept\n",
       "28    Belo Horizonte  64  2     2        1              11    acept    \n",
       "29    Campinas       208  3     2        4              -     acept    \n",
       "30    São Paulo       20  1     1        0              5     acept    \n",
       "...   ...            ...  ...   ...      ...            ...   ...      \n",
       "10663 São Paulo      238  4     3        1              7     acept    \n",
       "10664 São Paulo       90  3     1        0              13    acept    \n",
       "10665 Rio de Janeiro 310  3     2        0              5     not acept\n",
       "10666 Belo Horizonte  55  2     1        1              2     not acept\n",
       "10667 Rio de Janeiro  60  2     2        0              13    acept    \n",
       "10668 Belo Horizonte  75  2     1        1              3     not acept\n",
       "10669 São Paulo       24  1     1        0              -     acept    \n",
       "10670 São Paulo      340  4     5        3              15    not acept\n",
       "10671 São Paulo      165  3     3        2              2     acept    \n",
       "10672 São Paulo       84  2     2        1              16    not acept\n",
       "10673 São Paulo      126  2     1        0              13    acept    \n",
       "10674 Porto Alegre   220  3     2        2              15    acept    \n",
       "10675 Rio de Janeiro 135  4     2        1              -     acept    \n",
       "10676 Rio de Janeiro 250  3     2        1              11    acept    \n",
       "10677 Porto Alegre    40  1     1        0              1     acept    \n",
       "10678 São Paulo       38  1     1        0              19    not acept\n",
       "10679 São Paulo      141  3     5        0              4     acept    \n",
       "10680 São Paulo       61  1     2        1              13    acept    \n",
       "10681 São Paulo      156  4     4        3              1     acept    \n",
       "10682 São Paulo      230  3     5        3              3     not acept\n",
       "10683 Porto Alegre   160  3     2        3              4     acept    \n",
       "10684 São Paulo      280  4     4        2              5     acept    \n",
       "10685 Rio de Janeiro  98  2     1        0              1     acept    \n",
       "10686 São Paulo       83  3     2        2              11    acept    \n",
       "10687 São Paulo      150  3     3        2              8     not acept\n",
       "10688 Porto Alegre    63  2     1        1              5     not acept\n",
       "10689 São Paulo      285  4     4        4              17    acept    \n",
       "10690 Rio de Janeiro  70  3     3        0              8     not acept\n",
       "10691 Rio de Janeiro 120  2     2        2              8     acept    \n",
       "10692 São Paulo       80  2     1        0              -     acept    \n",
       "      furniture     hoa  rent.amount property.tax fire.insurance total\n",
       "1     furnished     2065  3300        211          42             5618\n",
       "2     not furnished 1200  4960       1750          63             7973\n",
       "3     not furnished 1000  2800          0          41             3841\n",
       "4     not furnished  270  1112         22          17             1421\n",
       "5     not furnished    0   800         25          11              836\n",
       "6     not furnished    0  8000        834         121             8955\n",
       "7     not furnished  740  1900         85          25             2750\n",
       "8     not furnished 2254  3223       1735          41             7253\n",
       "9     furnished     1000 15000        250         191            16440\n",
       "10    furnished      590  2300         35          30             2955\n",
       "11    furnished      470  2100        150          27             2747\n",
       "12    not furnished  550   580         43           8             1181\n",
       "13    not furnished  359  2100         70          27             2556\n",
       "14    furnished      790  4200        224          54             5268\n",
       "15    furnished      900  4370         17          56             5343\n",
       "16    furnished      680  8000        328         121             9129\n",
       "17    not furnished  700  3000        122          39             3861\n",
       "18    furnished     1614  3500        221          16             5351\n",
       "19    not furnished  800  1220          0          16             2036\n",
       "20    not furnished    0 12000       9500         181            21680\n",
       "21    not furnished    0  3800        118          58             3976\n",
       "22    furnished      470  2690        172          36             3368\n",
       "23    furnished     1530  1900        167          25             3622\n",
       "24    not furnished    0  1100          3          14             1117\n",
       "25    not furnished  800  1800        118          24             2742\n",
       "26    not furnished  480  3500         42          45             4067\n",
       "27    furnished      600  3000          0          39             3639\n",
       "28    not furnished  352  1500         80          20             1952\n",
       "29    not furnished    0  3180        100          48             3328\n",
       "30    furnished      602  1800        130          23             2555\n",
       "...   ...           ...  ...         ...          ...            ...  \n",
       "10663 not furnished 2515  4500        575          58             7648\n",
       "10664 not furnished  785  1600          0          21             2406\n",
       "10665 not furnished 2500  6000        595          78             9173\n",
       "10666 furnished      200  1600         75          22             1897\n",
       "10667 not furnished  600  2700        154          35             3489\n",
       "10668 not furnished  180  1250          0          17             1447\n",
       "10669 not furnished    0   870          0          14              884\n",
       "10670 furnished     3519 12000       1287         153            16960\n",
       "10671 furnished     1150  2710         84          35             3979\n",
       "10672 furnished      768  2900         63          37             3768\n",
       "10673 not furnished  570  2580          0          33             3183\n",
       "10674 not furnished  842  2400        117          36             3395\n",
       "10675 not furnished    0  3300        115          51             3466\n",
       "10676 not furnished 2000  2700        500          35             5235\n",
       "10677 not furnished  330  1200        159          18             1707\n",
       "10678 not furnished  583  1000         46          13             1642\n",
       "10679 not furnished  909 10140        772         129            11950\n",
       "10680 not furnished  680  4000        140          51             4871\n",
       "10681 furnished     2000  2200        750          28             4978\n",
       "10682 not furnished 3800 11000       1100         140            16040\n",
       "10683 furnished      850  3300        220          49             4419\n",
       "10684 not furnished 4200  4000       1042          51             9293\n",
       "10685 not furnished  560  3900        184          51             4695\n",
       "10686 not furnished  888  7521        221          96             8726\n",
       "10687 furnished        0 13500          0         172            13670\n",
       "10688 furnished      402  1478         24          22             1926\n",
       "10689 not furnished 3100 15000        973         191            19260\n",
       "10690 furnished      980  6000        332          78             7390\n",
       "10691 furnished     1585 12000        279         155            14020\n",
       "10692 not furnished    0  1400        165          22             1587"
      ]
     },
     "metadata": {},
     "output_type": "display_data"
    }
   ],
   "source": [
    "df"
   ]
  },
  {
   "cell_type": "markdown",
   "metadata": {},
   "source": [
    "## Análise Bivariada"
   ]
  },
  {
   "cell_type": "code",
   "execution_count": 8,
   "metadata": {},
   "outputs": [
    {
     "data": {
      "image/png": "[encoded data removed]",
      "text/plain": [
       "plot without title"
      ]
     },
     "metadata": {},
     "output_type": "display_data"
    }
   ],
   "source": [
    "p <- ggplot(df, aes(x=city, y=total),) + geom_boxplot(fill=I(\"blue\"), alpha=I(.2),\n",
    "    outlier.shape=NA) + coord_cartesian(ylim = quantile(df$total, c(0.01, 0.97))) + ggtitle(\"Distribuição de aluguéis (total) por cidade\")\n",
    "p"
   ]
  },
  {
   "cell_type": "markdown",
   "metadata": {},
   "source": [
    "A cidade com aluguéis mais caros é São Paulo. Ao observarmos o gráfico acima podemos perceber que a mediana de São Paulo é maior que o terceiro quartil das cidades de Campinas e Porto Alegre (ambas bem parecidas). Além de que sua mediana é significativamente diferente de todos os demais múnicipios."
   ]
  },
  {
   "cell_type": "code",
   "execution_count": 16,
   "metadata": {},
   "outputs": [
    {
     "data": {
      "image/png": "[encoded data removed]",
      "text/plain": [
       "plot without title"
      ]
     },
     "metadata": {},
     "output_type": "display_data"
    }
   ],
   "source": [
    "df_num <- select(df, area, rooms, bathroom, parking.spaces, hoa, rent.amount, property.tax, fire.insurance, total)\n",
    "corr <- round(cor(df_num), 2)\n",
    "ggcorrplot(corr)"
   ]
  },
  {
   "cell_type": "markdown",
   "metadata": {},
   "source": [
    "Com o gráfico acima podemos visualizar que há uma alta correlação entre o preço do aluguel e o seguro de incêndio. Outras correlações encontradas, porém de forma moderada são: número de banheiros e quartos; espaços recreativos e valor do aluguel."
   ]
  }
 ],
 "metadata": {
  "kernelspec": {
   "display_name": "R",
   "language": "R",
   "name": "ir"
  },
  "language_info": {
   "codemirror_mode": "r",
   "file_extension": ".r",
   "mimetype": "text/x-r-source",
   "name": "R",
   "pygments_lexer": "r",
   "version": "3.6.1"
  }
 },
 "nbformat": 4,
 "nbformat_minor": 4
}
