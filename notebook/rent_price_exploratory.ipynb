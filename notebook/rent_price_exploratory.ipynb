{
 "cells": [
  {
   "cell_type": "markdown",
   "metadata": {},
   "source": [
    "# Análise em preço de aluguéis de imóveis no Brasil\n",
    "Base de dados brasileira encontrada no site do [Kaggle](https://www.kaggle.com/rubenssjr/brasilian-houses-to-rent). Possui preço de aluguéis em diferentes cidades brasileiras, além de outras informações referentes ao imóvel. No link podem ser encontrados mais informações sobre o dataset. Um fato sobre o dataset é que ele foi gerado a partir da captura de crawler, então, em alguns casos podem acontecer ter valores exorbitantes para alguns dos campos.\n",
    "Esse também código está disponível no [GitHub](https://github.com/anjosma/rent_price_brazil)!"
   ]
  },
  {
   "cell_type": "code",
   "execution_count": 13,
   "metadata": {},
   "outputs": [],
   "source": [
    "#install.packages(\"ggplot2\")\n",
    "#install.packages(\"ggcorrplot\")\n",
    "#install.packages(\"dplyr\")\n",
    "options(repr.plot.width=8, repr.plot.height=4)\n",
    "library(\"ggplot2\")\n",
    "library(\"dplyr\")\n",
    "library(\"ggcorrplot\")"
   ]
  },
  {
   "cell_type": "markdown",
   "metadata": {},
   "source": [
    "## Visão Geral"
   ]
  },
  {
   "cell_type": "code",
   "execution_count": 2,
   "metadata": {},
   "outputs": [
    {
     "data": {
      "text/html": [
       "<table>\n",
       "<thead><tr><th scope=col>city</th><th scope=col>area</th><th scope=col>rooms</th><th scope=col>bathroom</th><th scope=col>parking.spaces</th><th scope=col>floor</th><th scope=col>animal</th><th scope=col>furniture</th><th scope=col>hoa</th><th scope=col>rent.amount</th><th scope=col>property.tax</th><th scope=col>fire.insurance</th><th scope=col>total</th></tr></thead>\n",
       "<tbody>\n",
       "\t<tr><td>São Paulo    </td><td> 70          </td><td>2            </td><td>1            </td><td>1            </td><td>7            </td><td>acept        </td><td>furnished    </td><td>2065         </td><td>3300         </td><td> 211         </td><td> 42          </td><td>5618         </td></tr>\n",
       "\t<tr><td>São Paulo    </td><td>320          </td><td>4            </td><td>4            </td><td>0            </td><td>20           </td><td>acept        </td><td>not furnished</td><td>1200         </td><td>4960         </td><td>1750         </td><td> 63          </td><td>7973         </td></tr>\n",
       "\t<tr><td>Porto Alegre </td><td> 80          </td><td>1            </td><td>1            </td><td>1            </td><td>6            </td><td>acept        </td><td>not furnished</td><td>1000         </td><td>2800         </td><td>   0         </td><td> 41          </td><td>3841         </td></tr>\n",
       "\t<tr><td>Porto Alegre </td><td> 51          </td><td>2            </td><td>1            </td><td>0            </td><td>2            </td><td>acept        </td><td>not furnished</td><td> 270         </td><td>1112         </td><td>  22         </td><td> 17          </td><td>1421         </td></tr>\n",
       "\t<tr><td>São Paulo    </td><td> 25          </td><td>1            </td><td>1            </td><td>0            </td><td>1            </td><td>not acept    </td><td>not furnished</td><td>   0         </td><td> 800         </td><td>  25         </td><td> 11          </td><td> 836         </td></tr>\n",
       "\t<tr><td>São Paulo    </td><td>376          </td><td>3            </td><td>3            </td><td>7            </td><td>-            </td><td>acept        </td><td>not furnished</td><td>   0         </td><td>8000         </td><td> 834         </td><td>121          </td><td>8955         </td></tr>\n",
       "</tbody>\n",
       "</table>\n"
      ],
      "text/latex": [
       "\\begin{tabular}{r|lllllllllllll}\n",
       " city & area & rooms & bathroom & parking.spaces & floor & animal & furniture & hoa & rent.amount & property.tax & fire.insurance & total\\\\\n",
       "\\hline\n",
       "\t São Paulo     &  70           & 2             & 1             & 1             & 7             & acept         & furnished     & 2065          & 3300          &  211          &  42           & 5618         \\\\\n",
       "\t São Paulo     & 320           & 4             & 4             & 0             & 20            & acept         & not furnished & 1200          & 4960          & 1750          &  63           & 7973         \\\\\n",
       "\t Porto Alegre  &  80           & 1             & 1             & 1             & 6             & acept         & not furnished & 1000          & 2800          &    0          &  41           & 3841         \\\\\n",
       "\t Porto Alegre  &  51           & 2             & 1             & 0             & 2             & acept         & not furnished &  270          & 1112          &   22          &  17           & 1421         \\\\\n",
       "\t São Paulo     &  25           & 1             & 1             & 0             & 1             & not acept     & not furnished &    0          &  800          &   25          &  11           &  836         \\\\\n",
       "\t São Paulo     & 376           & 3             & 3             & 7             & -             & acept         & not furnished &    0          & 8000          &  834          & 121           & 8955         \\\\\n",
       "\\end{tabular}\n"
      ],
      "text/markdown": [
       "\n",
       "| city | area | rooms | bathroom | parking.spaces | floor | animal | furniture | hoa | rent.amount | property.tax | fire.insurance | total |\n",
       "|---|---|---|---|---|---|---|---|---|---|---|---|---|\n",
       "| São Paulo     |  70           | 2             | 1             | 1             | 7             | acept         | furnished     | 2065          | 3300          |  211          |  42           | 5618          |\n",
       "| São Paulo     | 320           | 4             | 4             | 0             | 20            | acept         | not furnished | 1200          | 4960          | 1750          |  63           | 7973          |\n",
       "| Porto Alegre  |  80           | 1             | 1             | 1             | 6             | acept         | not furnished | 1000          | 2800          |    0          |  41           | 3841          |\n",
       "| Porto Alegre  |  51           | 2             | 1             | 0             | 2             | acept         | not furnished |  270          | 1112          |   22          |  17           | 1421          |\n",
       "| São Paulo     |  25           | 1             | 1             | 0             | 1             | not acept     | not furnished |    0          |  800          |   25          |  11           |  836          |\n",
       "| São Paulo     | 376           | 3             | 3             | 7             | -             | acept         | not furnished |    0          | 8000          |  834          | 121           | 8955          |\n",
       "\n"
      ],
      "text/plain": [
       "  city         area rooms bathroom parking.spaces floor animal    furniture    \n",
       "1 São Paulo     70  2     1        1              7     acept     furnished    \n",
       "2 São Paulo    320  4     4        0              20    acept     not furnished\n",
       "3 Porto Alegre  80  1     1        1              6     acept     not furnished\n",
       "4 Porto Alegre  51  2     1        0              2     acept     not furnished\n",
       "5 São Paulo     25  1     1        0              1     not acept not furnished\n",
       "6 São Paulo    376  3     3        7              -     acept     not furnished\n",
       "  hoa  rent.amount property.tax fire.insurance total\n",
       "1 2065 3300         211          42            5618 \n",
       "2 1200 4960        1750          63            7973 \n",
       "3 1000 2800           0          41            3841 \n",
       "4  270 1112          22          17            1421 \n",
       "5    0  800          25          11             836 \n",
       "6    0 8000         834         121            8955 "
      ]
     },
     "metadata": {},
     "output_type": "display_data"
    }
   ],
   "source": [
    "df <- read.csv(\"../data/houses_to_rent_v2.csv\", encoding=\"UTF-8\", header=TRUE, sep=\",\")\n",
    "head(df)"
   ]
  },
  {
   "cell_type": "code",
   "execution_count": 3,
   "metadata": {},
   "outputs": [
    {
     "data": {
      "text/html": [
       "<ol class=list-inline>\n",
       "\t<li>'city'</li>\n",
       "\t<li>'area'</li>\n",
       "\t<li>'rooms'</li>\n",
       "\t<li>'bathroom'</li>\n",
       "\t<li>'parking.spaces'</li>\n",
       "\t<li>'floor'</li>\n",
       "\t<li>'animal'</li>\n",
       "\t<li>'furniture'</li>\n",
       "\t<li>'hoa'</li>\n",
       "\t<li>'rent.amount'</li>\n",
       "\t<li>'property.tax'</li>\n",
       "\t<li>'fire.insurance'</li>\n",
       "\t<li>'total'</li>\n",
       "</ol>\n"
      ],
      "text/latex": [
       "\\begin{enumerate*}\n",
       "\\item 'city'\n",
       "\\item 'area'\n",
       "\\item 'rooms'\n",
       "\\item 'bathroom'\n",
       "\\item 'parking.spaces'\n",
       "\\item 'floor'\n",
       "\\item 'animal'\n",
       "\\item 'furniture'\n",
       "\\item 'hoa'\n",
       "\\item 'rent.amount'\n",
       "\\item 'property.tax'\n",
       "\\item 'fire.insurance'\n",
       "\\item 'total'\n",
       "\\end{enumerate*}\n"
      ],
      "text/markdown": [
       "1. 'city'\n",
       "2. 'area'\n",
       "3. 'rooms'\n",
       "4. 'bathroom'\n",
       "5. 'parking.spaces'\n",
       "6. 'floor'\n",
       "7. 'animal'\n",
       "8. 'furniture'\n",
       "9. 'hoa'\n",
       "10. 'rent.amount'\n",
       "11. 'property.tax'\n",
       "12. 'fire.insurance'\n",
       "13. 'total'\n",
       "\n",
       "\n"
      ],
      "text/plain": [
       " [1] \"city\"           \"area\"           \"rooms\"          \"bathroom\"      \n",
       " [5] \"parking.spaces\" \"floor\"          \"animal\"         \"furniture\"     \n",
       " [9] \"hoa\"            \"rent.amount\"    \"property.tax\"   \"fire.insurance\"\n",
       "[13] \"total\"         "
      ]
     },
     "metadata": {},
     "output_type": "display_data"
    }
   ],
   "source": [
    "colnames(df)"
   ]
  },
  {
   "cell_type": "code",
   "execution_count": 4,
   "metadata": {},
   "outputs": [
    {
     "data": {
      "text/html": [
       "'O dataset acima possui 10692 linhas e 13 colunas, sendo em 5 cidades diferentes.'"
      ],
      "text/latex": [
       "'O dataset acima possui 10692 linhas e 13 colunas, sendo em 5 cidades diferentes.'"
      ],
      "text/markdown": [
       "'O dataset acima possui 10692 linhas e 13 colunas, sendo em 5 cidades diferentes.'"
      ],
      "text/plain": [
       "[1] \"O dataset acima possui 10692 linhas e 13 colunas, sendo em 5 cidades diferentes.\""
      ]
     },
     "metadata": {},
     "output_type": "display_data"
    }
   ],
   "source": [
    "df_shape <- dim(df)\n",
    "uni_cities <- length(unique(df$city))\n",
    "sprintf(\"O dataset acima possui %s linhas e %s colunas, sendo em %s cidades diferentes.\", df_shape[1], df_shape[2], uni_cities)"
   ]
  },
  {
   "cell_type": "markdown",
   "metadata": {},
   "source": [
    "A função abaixo retorna se alguma coluna no dataframe possui campos nulos. Como o dataframe possui todos seus campos completos, não será necessário realizar nenhum tipo de preenchimento nos campos."
   ]
  },
  {
   "cell_type": "code",
   "execution_count": 5,
   "metadata": {},
   "outputs": [
    {
     "data": {
      "text/html": [
       "<dl class=dl-horizontal>\n",
       "\t<dt>city</dt>\n",
       "\t\t<dd>FALSE</dd>\n",
       "\t<dt>area</dt>\n",
       "\t\t<dd>FALSE</dd>\n",
       "\t<dt>rooms</dt>\n",
       "\t\t<dd>FALSE</dd>\n",
       "\t<dt>bathroom</dt>\n",
       "\t\t<dd>FALSE</dd>\n",
       "\t<dt>parking.spaces</dt>\n",
       "\t\t<dd>FALSE</dd>\n",
       "\t<dt>floor</dt>\n",
       "\t\t<dd>FALSE</dd>\n",
       "\t<dt>animal</dt>\n",
       "\t\t<dd>FALSE</dd>\n",
       "\t<dt>furniture</dt>\n",
       "\t\t<dd>FALSE</dd>\n",
       "\t<dt>hoa</dt>\n",
       "\t\t<dd>FALSE</dd>\n",
       "\t<dt>rent.amount</dt>\n",
       "\t\t<dd>FALSE</dd>\n",
       "\t<dt>property.tax</dt>\n",
       "\t\t<dd>FALSE</dd>\n",
       "\t<dt>fire.insurance</dt>\n",
       "\t\t<dd>FALSE</dd>\n",
       "\t<dt>total</dt>\n",
       "\t\t<dd>FALSE</dd>\n",
       "</dl>\n"
      ],
      "text/latex": [
       "\\begin{description*}\n",
       "\\item[city] FALSE\n",
       "\\item[area] FALSE\n",
       "\\item[rooms] FALSE\n",
       "\\item[bathroom] FALSE\n",
       "\\item[parking.spaces] FALSE\n",
       "\\item[floor] FALSE\n",
       "\\item[animal] FALSE\n",
       "\\item[furniture] FALSE\n",
       "\\item[hoa] FALSE\n",
       "\\item[rent.amount] FALSE\n",
       "\\item[property.tax] FALSE\n",
       "\\item[fire.insurance] FALSE\n",
       "\\item[total] FALSE\n",
       "\\end{description*}\n"
      ],
      "text/markdown": [
       "city\n",
       ":   FALSEarea\n",
       ":   FALSErooms\n",
       ":   FALSEbathroom\n",
       ":   FALSEparking.spaces\n",
       ":   FALSEfloor\n",
       ":   FALSEanimal\n",
       ":   FALSEfurniture\n",
       ":   FALSEhoa\n",
       ":   FALSErent.amount\n",
       ":   FALSEproperty.tax\n",
       ":   FALSEfire.insurance\n",
       ":   FALSEtotal\n",
       ":   FALSE\n",
       "\n"
      ],
      "text/plain": [
       "          city           area          rooms       bathroom parking.spaces \n",
       "         FALSE          FALSE          FALSE          FALSE          FALSE \n",
       "         floor         animal      furniture            hoa    rent.amount \n",
       "         FALSE          FALSE          FALSE          FALSE          FALSE \n",
       "  property.tax fire.insurance          total \n",
       "         FALSE          FALSE          FALSE "
      ]
     },
     "metadata": {},
     "output_type": "display_data"
    }
   ],
   "source": [
    "apply(df, 2, function(x) any(is.na(x)))"
   ]
  },
  {
   "cell_type": "markdown",
   "metadata": {},
   "source": [
    "## Análise univariada\n",
    "Abaixo será realizada análise individuais de algumas variáveis disponíveis no dataset, começando pela principal, que é o preço do aluguel."
   ]
  },
  {
   "cell_type": "code",
   "execution_count": 6,
   "metadata": {},
   "outputs": [
    {
     "data": {
      "text/plain": [
       "             city           area             rooms           bathroom     \n",
       " Belo Horizonte:1258   Min.   :   11.0   Min.   : 1.000   Min.   : 1.000  \n",
       " Campinas      : 853   1st Qu.:   56.0   1st Qu.: 2.000   1st Qu.: 1.000  \n",
       " Porto Alegre  :1193   Median :   90.0   Median : 2.000   Median : 2.000  \n",
       " Rio de Janeiro:1501   Mean   :  149.2   Mean   : 2.506   Mean   : 2.237  \n",
       " São Paulo     :5887   3rd Qu.:  182.0   3rd Qu.: 3.000   3rd Qu.: 3.000  \n",
       "                       Max.   :46335.0   Max.   :13.000   Max.   :10.000  \n",
       "                                                                          \n",
       " parking.spaces       floor            animal             furniture   \n",
       " Min.   : 0.000   -      :2461   acept    :8316   furnished    :2606  \n",
       " 1st Qu.: 0.000   1      :1081   not acept:2376   not furnished:8086  \n",
       " Median : 1.000   2      : 985                                        \n",
       " Mean   : 1.609   3      : 931                                        \n",
       " 3rd Qu.: 2.000   4      : 748                                        \n",
       " Max.   :12.000   5      : 600                                        \n",
       "                  (Other):3886                                        \n",
       "      hoa           rent.amount     property.tax      fire.insurance \n",
       " Min.   :      0   Min.   :  450   Min.   :     0.0   Min.   :  3.0  \n",
       " 1st Qu.:    170   1st Qu.: 1530   1st Qu.:    38.0   1st Qu.: 21.0  \n",
       " Median :    560   Median : 2661   Median :   125.0   Median : 36.0  \n",
       " Mean   :   1174   Mean   : 3896   Mean   :   366.7   Mean   : 53.3  \n",
       " 3rd Qu.:   1238   3rd Qu.: 5000   3rd Qu.:   375.0   3rd Qu.: 68.0  \n",
       " Max.   :1117000   Max.   :45000   Max.   :313700.0   Max.   :677.0  \n",
       "                                                                     \n",
       "     total        \n",
       " Min.   :    499  \n",
       " 1st Qu.:   2062  \n",
       " Median :   3582  \n",
       " Mean   :   5490  \n",
       " 3rd Qu.:   6768  \n",
       " Max.   :1120000  \n",
       "                  "
      ]
     },
     "metadata": {},
     "output_type": "display_data"
    }
   ],
   "source": [
    "summary(df)"
   ]
  },
  {
   "cell_type": "markdown",
   "metadata": {},
   "source": [
    "Utilizando a função ```summary``` é possível ter uma rápida análise univariadas sobre os diversos campos disponíveis no dataset. Por exemplo no campo **hoa**, que é referente ao valor do condomínio, 75% dos valores de condominios são de até 1.238 reais."
   ]
  },
  {
   "cell_type": "code",
   "execution_count": 7,
   "metadata": {},
   "outputs": [
    {
     "name": "stderr",
     "output_type": "stream",
     "text": [
      "Warning message:\n",
      "\"Removed 12 rows containing non-finite values (stat_bin).\"Warning message:\n",
      "\"Removed 2 rows containing missing values (geom_bar).\""
     ]
    },
    {
     "data": {
      "image/png": "[encoded data removed]",
      "text/plain": [
       "plot without title"
      ]
     },
     "metadata": {},
     "output_type": "display_data"
    }
   ],
   "source": [
    "g_hist <- qplot(\n",
    "    df$rent.amount, geom=\"histogram\", xlab=\"Valor do Aluguel\", xlim=c(0,17000), ylim=c(0,1500),\n",
    "    binwidth=500, main = \"Histograma de valores de aluguéis\", fill=I(\"blue\"), alpha=I(.4),\n",
    ")+ theme_minimal()\n",
    "g_hist"
   ]
  },
  {
   "cell_type": "markdown",
   "metadata": {},
   "source": [
    "O maior pico no histograma está na faixa de 1.000 a 1.999 reais, o qual engloba aproximadamente 28% de todo o dataset."
   ]
  },
  {
   "cell_type": "code",
   "execution_count": 8,
   "metadata": {},
   "outputs": [],
   "source": [
    "cities_count <- df %>% count(city)\n",
    "cities_count$percent <- round(cities_count$n / sum(cities_count$n), digits=2)"
   ]
  },
  {
   "cell_type": "code",
   "execution_count": 9,
   "metadata": {
    "scrolled": false
   },
   "outputs": [
    {
     "data": {
      "image/png": "[encoded data removed]",
      "text/plain": [
       "plot without title"
      ]
     },
     "metadata": {},
     "output_type": "display_data"
    }
   ],
   "source": [
    "p <- ggplot(data=cities_count, aes(x=city, y=n)) +\n",
    "  geom_bar(stat=\"identity\", fill=I(\"blue\"), alpha=I(.4)) +\n",
    "    geom_text(aes(label=percent), vjust=1.6, color=\"white\", size=3.5) + theme_minimal()\n",
    "p"
   ]
  },
  {
   "cell_type": "markdown",
   "metadata": {},
   "source": [
    "Como reparado no gráfico acima, temos uma base bastante desbalanceada, com São Paulo representando mais da metade (55%) dos registros presentes."
   ]
  },
  {
   "cell_type": "code",
   "execution_count": 10,
   "metadata": {},
   "outputs": [
    {
     "data": {
      "image/png": "[encoded data removed]",
      "text/plain": [
       "plot without title"
      ]
     },
     "metadata": {},
     "output_type": "display_data"
    }
   ],
   "source": [
    "forn_count <- aggregate(total ~ furniture, df, median)\n",
    "\n",
    "p <- ggplot(data=forn_count, aes(x=furniture, y=total)) +\n",
    "  geom_bar(stat=\"identity\", fill=I(\"blue\"), alpha=I(.4)) + geom_text(aes(label=total), vjust=1.6, color=\"white\", size=3.5) + theme_minimal()\n",
    "p"
   ]
  },
  {
   "cell_type": "markdown",
   "metadata": {},
   "source": [
    "Na mediana, os imóveis mobiliados custam aproximadamente 1685 reais mais caros que os que não vem (35% mais baratos). "
   ]
  },
  {
   "cell_type": "markdown",
   "metadata": {},
   "source": [
    "## Análise Bivariada"
   ]
  },
  {
   "cell_type": "code",
   "execution_count": 11,
   "metadata": {},
   "outputs": [
    {
     "data": {
      "image/png": "[encoded data removed]",
      "text/plain": [
       "plot without title"
      ]
     },
     "metadata": {},
     "output_type": "display_data"
    }
   ],
   "source": [
    "p <- ggplot(df, aes(x=city, y=total),) + geom_boxplot(fill=I(\"blue\"), alpha=I(.4),\n",
    "    outlier.shape=NA) + coord_cartesian(ylim = quantile(df$total, \n",
    "    c(0.01, 0.97))) + ggtitle(\"Distribuição de aluguéis (total) por cidade\") + theme_minimal()\n",
    "p"
   ]
  },
  {
   "cell_type": "markdown",
   "metadata": {},
   "source": [
    "A cidade com aluguéis mais caros é São Paulo. Ao observarmos o gráfico acima podemos perceber que a mediana de São Paulo é maior que o terceiro quartil das cidades de Campinas e Porto Alegre (ambas bem parecidas). Além de que sua mediana é significativamente diferente de todos os demais múnicipios."
   ]
  },
  {
   "cell_type": "code",
   "execution_count": 12,
   "metadata": {},
   "outputs": [
    {
     "data": {
      "image/png": "[encoded data removed]",
      "text/plain": [
       "plot without title"
      ]
     },
     "metadata": {},
     "output_type": "display_data"
    }
   ],
   "source": [
    "df_num <- select(df, area, rooms, bathroom, parking.spaces, hoa, rent.amount, property.tax, fire.insurance, total)\n",
    "corr <- round(cor(df_num), 2)\n",
    "ggcorrplot(corr, colors = c(\"#E46726\", \"white\", \"#3a48ff\")\n",
    ")"
   ]
  },
  {
   "cell_type": "markdown",
   "metadata": {},
   "source": [
    "Com o gráfico acima podemos visualizar que há uma alta correlação entre o preço do aluguel e o seguro de incêndio. Outras correlações encontradas, porém de forma moderada são: número de banheiros e quartos; espaços recreativos e valor do aluguel."
   ]
  }
 ],
 "metadata": {
  "kernelspec": {
   "display_name": "R",
   "language": "R",
   "name": "ir"
  },
  "language_info": {
   "codemirror_mode": "r",
   "file_extension": ".r",
   "mimetype": "text/x-r-source",
   "name": "R",
   "pygments_lexer": "r",
   "version": "3.6.1"
  }
 },
 "nbformat": 4,
 "nbformat_minor": 4
}
